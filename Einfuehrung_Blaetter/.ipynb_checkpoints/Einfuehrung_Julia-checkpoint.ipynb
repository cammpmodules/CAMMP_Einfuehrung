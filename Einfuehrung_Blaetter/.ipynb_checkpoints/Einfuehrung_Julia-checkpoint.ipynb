{
 "cells": [
  {
   "attachments": {
    "Julia_prog_language.png": {
     "image/png": "[encoded data removed]"
    }
   },
   "cell_type": "markdown",
   "metadata": {},
   "source": [
    "# Einführung in die Programmiersprache Julia\n",
    "## Einleitung\n",
    "![Julia_prog_language.png](attachment:Julia_prog_language.png)\n",
    "Das Schülerlabor CAMMP hat sich zur Aufgabe gemacht, Schülerinnen und Schülern bewusst zu machen, wie viel Mathematik eigentlich in unserem Alltag steckt. Häufig ist diese Mathematik nicht direkt sichtbar, sodass sich Jugendliche im Mathematikunterricht immer wieder die Frage stellen: \"Wozu brauche ich das überhaupt?\". Tatsächlich braucht man Mathematik aber in fast allen Bereichen des Lebens. Dass Ingenieure, Physiker und Informatiker eine solide universitäre Mathematikausbildung benötigen sollte weithin bekannt sein. Aber auch Mediziner und Psychologen werden während ihres Studiums mit Mathematik - hier vor allem mit dem Teilgebiet der Statistik - konfrontiert. Aber auch die wenigen Personen, die Beruflich tatsächlich gar nichts mit Mathematik zu tun haben, sind in ihrem Leben von der Mathematik abhängig. Sei es bei der Verwendung von GPS, der Benutzung verschiedener Apps (wie beispielsweise SHAZAM), der Suche im Internet via Google, der Nutzung von Sprachassistenten und Sozialen Netzwerken oder dem Hören von mp3 Dateien. Und das sind nur einige, an die CAMMP Days angelehnte, ausgewählte Beispiele.\n",
    "\n",
    "In unserer digitalisierten Zeit wächst die Bedeutung von Computern zunehmend, sodass ein Großteil der angewandten Mathematik, nicht mehr (nur) mit Stift und Papier betrieben wird, sondern vor allem mit dem PC. Das ist aus zeitlichen Gründen auch absolut notwendig. Am Ende rechnet ein Computer nun mal VIEL schneller als jeder Mensch - und fehlerfrei. Es lohnt sich also, neben der Mathematik auch die Programmierung zu beherrschen. Für eine zunehmende Digitalisierung - hier fallen Schlagworte wie \"Künstliche Intelligenz\", \"Industrie 4.0\" und \"Autonomes Fahren\" ein - sind fähige Programmierer unverzichtbar. In diesen Bereichen werden schon heute und auch in Zukunft viele gute Jobs entstehen. Personen mit guten Programmierkenntnissen sind daher auf dem Arbeitsmarkt gefragt wie nie. \n",
    "\n",
    "CAMMP möchte einen möglichst realistischen Einblick in die Anwendung von Mathematik geben. Daher werden auch die CAMMP Days überwiegend mit dem PC (und nicht auf dem Papier) durchgeführt. Jeder CAMMP Day behandelt ein der Wirklichkeit entsprechendes Problem, welches zunächst mathematisch modelliert und anschließend mit dem PC (manchmal in etwas vereinfachter Form) gelöst wird. Die Teilnehmenden lernen auf diese Weise zwei sehr wichtige Bestandteile der mathematischen Anwendung kennen: das mathematische Modellieren und das Programmieren. \n",
    "\n",
    "Eine der Programmiersprachen, die dabei Verwendung findet, ist Julia. Allen, die noch keine Erfahrungen mit der Programmierung (insbesondere in Julia) haben, soll dieses Blatt bei der Aneignung der absoluten Grundlagen helfen. Insbesondere werden alle Kompetenzen vermittelt, die man zur Teilnahme an den CAMMP Days benötigt - allerdings nicht viel darüber hinaus. Dennoch ist es ein Ziel von CAMMP, Schülerinnen und Schüler ohne Programmiererfahrung an das Thema Programmierung heranzuführen. Sodass die Hemmschwelle, sich privat oder in der Schule mit Programmierung bzw. Informatik zu beschäftigen, sinkt. Denn wie bei alle Sachen im Leben gilt auch hier: Übung macht den Meister.  \n",
    "\n",
    "## Abschnitt 1: Julia als Taschenrechner\n",
    "### Grundlegende mathematische Operationen\n",
    "Zunächst einmal kann Julia, genau wie ein handelsüblicher Taschenrechner, dazu genutzt werden, einfache Rechnungen durchzuführen. Dazu gibt man einfach den zu berechnenden Ausdruck ein. Zu beachten ist dabei, dass sich Julia, wie fast alle Programiersprachen, an der englischen Sprache orientiert. Das deutsche Komma \",\" muss also durch einen Punkt \".\" ersetzt werden. Beispielsweise gibt man die Zahl $2,5$ in Julia als `2.5` ein. In der folgenden Liste sind die wichtigsten Rechenoperationen inklusive Beispielen zusammengefasst:\n",
    "Operation | Symbol in Julia | Beispiel zur Eingabe in Julia\n",
    "----------|--------|-----------------\n",
    "Addition  |   +    | `3.2 + 4`\n",
    "Subtraktion| - | `1 - 0.5`\n",
    "Multiplikation|* | `2.5 * 4`\n",
    "Division| / | `10/3`\n",
    "Exponent| ^| `2^4`\n",
    "\n",
    "Zu beachten ist, dass auch Julia die Regel Punkt- vor Strichrechnung beherzigt, es gilt also\n",
    "\n",
    "`2+3/2 = 3.5` und `(2+3)/2 = 2.5`.\n",
    "\n",
    "Generell rechnet Julia in der gleichen Reihenfolge, wie ein Taschenrechner. Falls man sich dieser Reihenfolge nicht sicher ist, sollte man zu Sicherheit Klammern setzen, um die gewünschte Reihenfolge der Rechenoperationen zu erzwingen. Hier ist ein Beispiel dazu:\n",
    "\n",
    "$2^\\frac{1}{2}$ = `2^(1/2)` und $\\frac{2^1}{2}$ = `2^1/2`.\n",
    "\n",
    "Jetzt könnt ihr endlich aktiv werden. Nutzt Julia, um die folgenden Ausdrücke zu berechnen:\n",
    "- a) $-2,5 +1,2 = -1,3$\n",
    "- b) $\\frac{2(4+3)}{5,5} = 2,\\overline{54}$\n",
    "- c) $(-2)^{11} + 0,9 \\cdot \\frac{15}{2} = -2041,25$\n",
    "- d) $\\frac{2^{0,25} + 4,5 \\cdot 3}{4} = 3,6723017787506804$\n",
    "- e) $\\left(2^{3^3}\\right)^\\frac{1}{2} - \\frac{50,2+27,6}{7,9} = 11575,389401694572$\n",
    "\n",
    "*Ersetzt in den folgenden 5 Codefeldern `NaN` durch die Ausdrücke, die in den obigen Gleichungen (a) bis e)) auf der linken Seite stehen. Natürlich müssen diese Ausdrücke in der Sprache Julia eingegeben werden. Klickt anschließend auf den \"Run\" Button in der Leiste ganz oben oder drückt die Tastenkombination \"shift\" + \"enter\". Wenn ihr alles richtig gemacht habt, bekommt ihr das Ergebnis, das auf der rechten Seite der entsprechenden Gleichung steht, ausgegeben. Falls dies nicht der Fall ist, korrigiert eure Eingabe.*"
   ]
  },
  {
   "cell_type": "code",
   "execution_count": 50,
   "metadata": {},
   "outputs": [
    {
     "data": {
      "text/plain": [
       "-1.3"
      ]
     },
     "execution_count": 50,
     "metadata": {},
     "output_type": "execute_result"
    }
   ],
   "source": [
    "# Ausdruck in a) berechnen\n",
    "-2.5+1.2"
   ]
  },
  {
   "cell_type": "code",
   "execution_count": 51,
   "metadata": {},
   "outputs": [
    {
     "data": {
      "text/plain": [
       "2.5454545454545454"
      ]
     },
     "execution_count": 51,
     "metadata": {},
     "output_type": "execute_result"
    }
   ],
   "source": [
    "# Ausdruck in b) berechnen\n",
    "2*(4+3)/5.5"
   ]
  },
  {
   "cell_type": "code",
   "execution_count": 52,
   "metadata": {},
   "outputs": [
    {
     "data": {
      "text/plain": [
       "-2041.25"
      ]
     },
     "execution_count": 52,
     "metadata": {},
     "output_type": "execute_result"
    }
   ],
   "source": [
    "# Ausdruck in c) berechnen\n",
    "(-2)^(11) + 0.9*15/2"
   ]
  },
  {
   "cell_type": "code",
   "execution_count": 53,
   "metadata": {},
   "outputs": [
    {
     "data": {
      "text/plain": [
       "3.6723017787506804"
      ]
     },
     "execution_count": 53,
     "metadata": {},
     "output_type": "execute_result"
    }
   ],
   "source": [
    "# Ausdruck in d) berechnen\n",
    "(2^(0.25)+4.5*3)/4"
   ]
  },
  {
   "cell_type": "code",
   "execution_count": 54,
   "metadata": {},
   "outputs": [
    {
     "data": {
      "text/plain": [
       "11575.389401694572"
      ]
     },
     "execution_count": 54,
     "metadata": {},
     "output_type": "execute_result"
    }
   ],
   "source": [
    "# Ausdruck in e) berechnen\n",
    "(2^(3^3))^(0.5)- (50.2+27.6)/7.9"
   ]
  },
  {
   "cell_type": "markdown",
   "metadata": {},
   "source": [
    "Wie ihr an den obigen Codefeldern bereits sehen könnt, werden Kommentare in Julia durch die Raute `#` markiert. Alles, was in einer Zeile hinter der Raute steht, ignoriert Julia. Dennoch sind Kommentare sehr wichtig, um den Code für andere, aber gerade auch für sich selbst, lesbar zu machen und zu strukturieren. \n",
    "### Namentlich bekannte Funktionen und Variablen\n",
    "Die wichtigste Funktionen und mathematischen Konstanten sind Julia natürlich bekannt. Hier eine für uns relevante Auflistung:\n",
    "Name | Symbol|Symbol in Julia|Beispiel in Julia\n",
    "-------|------|---------|-------\n",
    "pi | $\\pi$ | `pi`| `3*pi/2`\n",
    "Sinusfunktion | $\\sin(x)$| `sin(x)` | `5*sin(-2/3pi)`\n",
    "Kosinusfunktion|$\\cos(x)$| `cos(x)` | `cos(-pi/2)^2`\n",
    "Tangensfunktion|$\\tan(x)$|`tan(x)`| `tan(pi/4)`\n",
    "Arkussinus| $\\arcsin(x)$ | `asin(x)`| `asin(-1)/pi`\n",
    "Arkuskosinus| $\\arccos(x)$ | `acos(x)`| `acos(0)/pi`\n",
    "Arkustangens |$\\arctan(x)$|`atan(x)`|`atan(-1)/pi`\n",
    "Sinus hyperbolicus|$\\sinh(x)$|`sinh(x)` | `sinh(-1)^2`\n",
    "Kosinus hyperbolicus|$\\cosh(x)$|`cosh(x)` | `cosh(0)/4`\n",
    "Exponentialfunktion|$e^x$| `exp(x)` | `exp(1) + exp(-1)`\n",
    "Natürlicher Logarithmus |$\\ln(x)$ | `log(x)` | `log(exp(2))`\n",
    "Dekadischer Logarithmus |$\\log(x)$ | `log(10,x)` | `log(10,1000000)`\n",
    "Quadratwurzel| $\\sqrt{x}$| `sqrt(x)` | `sqrt(6) + sqrt(0.5)`\n",
    "\n",
    "Drei wichtige Bemerkungen:\n",
    "- Bedenkt, dass ihr wegen $\\sqrt{x} = x^\\frac{1}{2}$ auch `x^(1/2)` anstelle von `sqrt(x)` schreiben könnt. Ganz allgemein gilt für jede natürliche Zahl $n \\in \\mathbb{N}$:\n",
    "$$\n",
    "\\sqrt[n]{x} = x^\\frac{1}{n}.\n",
    "$$\n",
    "Die n-te Wurzel kann man also immer mit Hilfe von `^` und dem geeigneten Exponenten berechnen.\n",
    "- Die trigonomerischen Funktionen gehen davon aus, das Winkel in der Einheit Bogenmaß und **nicht** in Grad angegeben werden. Natürlich werden Winkel auch im Bogenmaß zurückgegeben. Julia verhält sich also wie ein auf \"RAD\" eingestellter Taschenrechner. Behaltet das immer im Hinterkopf. Zum Umrechnen vom Bogenmaß in Grad kann man die Gleichung  $2\\pi$ rad = $360$ Grad benutzen.\n",
    "- Wie ihr sehen könnt, kann bei der Multiplikation von $\\pi$ mit einer Zahl das Rechenzeichen `*` weggelassen werden. So hat man beispielsweise `2pi = 2*pi`. Das gilt auch für selbst definierte Variablen (siehe unten). Allerdings ist das nicht in jeder Programmiersprache der Fall.\n",
    "\n",
    "Hier sind wieder einige Ausdrücke, die ihr mit Julia berechnen sollt:\n",
    "- a) $\\sin^2\\left(\\frac{2}{3}\\pi\\right) + \\cos^2\\left(\\frac{2}{3}\\pi - 4\\pi\\right) = 1$\n",
    "- b) $\\tan\\left(\\frac{\\pi}{4} + 3\\pi\\right) + \\left(\\frac{\\arcsin(1)}{\\arccos(0)} + \\frac{\\arctan\\left(\\tan(\\pi/4)\\right)}{\\pi}\\right) = 2,25$\n",
    "- c) $\\sinh^2\\left(\\sqrt{e}\\right) \\cdot \\cosh\\left(\\sqrt[3]{e^2}\\right) = 22,432429945272336$ \n",
    "- d) $\\log(50) - \\frac{\\ln(50)}{\\ln(10)} = 0$\n",
    "- e) $\\sqrt{e^{\\left(\\sin\\left(-\\frac{6}{10} \\pi\\right) + \\cos\\left(-\\frac{2}{7} \\pi\\right)\\right) \\cdot \\cosh(2,5)^{-1}}} = 1,0679287152330492$ \n",
    "\n",
    "*Ersetzt in den folgenden 5 Codefeldern `NaN` durch die Ausdrücke, die in den obigen Gleichungen (a) bis e)) auf der linken Seite stehen. Natürlich müssen diese Ausdrücke in der Sprache Julia eingegeben werden. Klickt anschließend auf den \"Run\" Button oder drückt die Tastenkombination \"shift\" + \"enter\". Wenn ihr alles richtig gemacht habt, bekommt ihr das Ergebnis, das auf der rechten Seite der entsprechenden Gleichung steht, ausgegeben. Falls dies nicht der Fall ist, korrigiert eure Eingabe.*"
   ]
  },
  {
   "cell_type": "code",
   "execution_count": 10,
   "metadata": {},
   "outputs": [
    {
     "data": {
      "text/plain": [
       "0.9999999999999998"
      ]
     },
     "execution_count": 10,
     "metadata": {},
     "output_type": "execute_result"
    }
   ],
   "source": [
    "# Ausdruck in a) berechnen\n",
    "sin(2/3pi)^2+cos(2/3pi-4pi)^2"
   ]
  },
  {
   "cell_type": "code",
   "execution_count": 37,
   "metadata": {},
   "outputs": [
    {
     "data": {
      "text/plain": [
       "2.250000000000001"
      ]
     },
     "execution_count": 37,
     "metadata": {},
     "output_type": "execute_result"
    }
   ],
   "source": [
    "# Ausdruck in b) berechnen\n",
    "tan(pi/4+3pi) + (asin(1)/acos(0)+atan(tan(pi/4))/pi)"
   ]
  },
  {
   "cell_type": "code",
   "execution_count": 41,
   "metadata": {},
   "outputs": [
    {
     "data": {
      "text/plain": [
       "22.432429945272336"
      ]
     },
     "execution_count": 41,
     "metadata": {},
     "output_type": "execute_result"
    }
   ],
   "source": [
    "# Ausdruck in c) berechnen\n",
    "sinh(sqrt(exp(1)))^2 * cosh(exp(2)^(1/3))"
   ]
  },
  {
   "cell_type": "code",
   "execution_count": 42,
   "metadata": {},
   "outputs": [
    {
     "data": {
      "text/plain": [
       "0.0"
      ]
     },
     "execution_count": 42,
     "metadata": {},
     "output_type": "execute_result"
    }
   ],
   "source": [
    "# Ausdruck in d) berechnen\n",
    "log(10,50) - log(50)/log(10)"
   ]
  },
  {
   "cell_type": "code",
   "execution_count": 50,
   "metadata": {},
   "outputs": [
    {
     "data": {
      "text/plain": [
       "1.0679287152330492"
      ]
     },
     "execution_count": 50,
     "metadata": {},
     "output_type": "execute_result"
    }
   ],
   "source": [
    "# Ausdruck in e) berechnen\n",
    "sqrt(exp((sin(-6/10pi) + cos(-2/7pi))/cosh(2.5)))"
   ]
  },
  {
   "cell_type": "markdown",
   "metadata": {},
   "source": [
    "## Abschnitt 2: Grundlegene Programmierung in Julia\n",
    "### Variablen anlegen"
   ]
  },
  {
   "cell_type": "code",
   "execution_count": null,
   "metadata": {},
   "outputs": [],
   "source": []
  }
 ],
 "metadata": {
  "kernelspec": {
   "display_name": "Julia 1.0.2",
   "language": "julia",
   "name": "julia-1.0"
  },
  "language_info": {
   "file_extension": ".jl",
   "mimetype": "application/julia",
   "name": "julia",
   "version": "1.0.2"
  }
 },
 "nbformat": 4,
 "nbformat_minor": 2
}
